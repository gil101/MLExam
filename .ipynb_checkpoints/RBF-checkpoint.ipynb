{
 "cells": [
  {
   "cell_type": "markdown",
   "metadata": {},
   "source": [
    "<h3>RBF</h3>\n",
    "We can determine the cluster centers by drawing the values in 2 dim coordinate \n",
    "system without computation since the points are well separated. Or,\n",
    "\n",
    "One can see without the need of computing the Euclidean distance of each point to the cluster\n",
    "centers that the new cluster centers are:"
   ]
  },
  {
   "cell_type": "code",
   "execution_count": 1,
   "metadata": {},
   "outputs": [
    {
     "name": "stdout",
     "output_type": "stream",
     "text": [
      "Without the need of computing the Euclidean distance of each point to the cluster centers the new cluster centers are,\n",
      "example:\n",
      " {x_1,x_2} belongs to C1\n",
      "...\n",
      "New centroids centers are,\n",
      "c1 =  [0.5 8.5] ^T\n",
      "c2 =  [1.  0.5] ^T\n",
      "c3 =  [0, -10] ^T\n",
      "\n",
      "Through k-Means we learnt the cluster centers for the 3 hidden neurons, since σ= 5 and\n"
     ]
    }
   ],
   "source": [
    "import numpy as np\n",
    "import math\n",
    "X=np.array([[1,9],[0,8],[1,0],[1,1],[0,-10]])                #write here the data values\n",
    "targets=np.array([-1, -1 , 1 , 1, -1])                       #write here the target values\n",
    "centroids=np.array([[1,9],[1,0],[0,-10]])                    #write here the centroid values\n",
    "K=3                                                          #write here the N clusters\n",
    "sigmoid=5                                                    #write here the sigmoid\n",
    "learningrate=1                                               #write here the learning rate\n",
    "\n",
    "print('Without the need of computing the Euclidean distance of each point to the cluster centers the new cluster centers are,')\n",
    "\n",
    "print('example:\\n {x_1,x_2} belongs to C1\\n...')\n",
    "\n",
    "print('New centroids centers are,')\n",
    "\n",
    "c1 = np.add([1,9],[0,8]) / 2\n",
    "print('c1 = ',c1,'^T')\n",
    "c2 = np.add([1,0],[1,1]) / 2\n",
    "print('c2 = ',c2,'^T')\n",
    "c3 = [0,-10] \n",
    "print('c3 = ',c3,'^T')\n",
    "\n",
    "print('\\nThrough k-Means we learnt the cluster centers for the',K,'hidden neurons, since σ=',sigmoid,'and')"
   ]
  },
  {
   "cell_type": "markdown",
   "metadata": {},
   "source": [
    "If the association between clusters and data points remains the same. There's no need to update the cluster centers, we can now go to the next step of the Hidden Layer.\n",
    "\n",
    "The activation function of the hidden units is given by,\n",
    "\\begin{align*} \\phi_k= \\phi(\\lVert\\textbf{x} - \\textbf{c}_k\\rVert)=exp\\bigg(-\\frac{\\lVert\\textbf{x} - \\textbf{c}_k\\rVert^2}{2 \\cdot \\sigma^2}\\bigg), \\hspace{5mm} k=1,2,..,K.\\end{align*}\n",
    "\n",
    "Then, for K=3 and $\\sigma=$sigmoid we have 2 hidden units such that,\n",
    "\\begin{align*}\n",
    "    \\phi_1=exp\\bigg(-\\frac{\\lVert\\textbf{x} - \\textbf{c}_1\\rVert^2}{2 \\cdot \\sigma^2}\\bigg),\\qquad\n",
    "    \\phi_2=exp\\bigg(-\\frac{\\lVert\\textbf{x} - \\textbf{c}_2\\rVert^2}{2 \\cdot \\sigma^2}\\bigg),\\quad\n",
    "    \\phi_3=exp\\bigg(-\\frac{\\lVert\\textbf{x} - \\textbf{c}_3\\rVert^2}{2 \\cdot \\sigma^2}\\bigg)\n",
    "\\end{align*}\n",
    "\n",
    "The activation function for each input $\\textbf{x}$ will therefore be,\n",
    "\n",
    "$\\Phi=(\\phi_1 \\ ,\\quad \\phi_2 \\ ,\\quad \\phi_3 \\ )^T \\quad \\rightarrow \\quad \\Phi(x)=(\\phi_1(x) \\ , \\phi_2(x) \\ , \\phi_3(x) \\ )^T$\n",
    "\n",
    "Applied to our X.shape[0] inputs from the training sample we have:"
   ]
  },
  {
   "cell_type": "code",
   "execution_count": 2,
   "metadata": {},
   "outputs": [
    {
     "name": "stdout",
     "output_type": "stream",
     "text": [
      "We map the input into the hidden units,\n",
      "The activation of the 3 hidden units for the 5 different input is with the bias phi0 = 1,\n",
      "res\n",
      "[1.  0.5]\n",
      "Phi 0 = (\n",
      "1\n",
      "0.99005\n",
      "0.23575\n",
      "0.00072\n",
      ")\n",
      "\n",
      "Phi 1 = (\n",
      "1\n",
      "0.99005\n",
      "0.31822\n",
      "0.00153\n",
      ")\n",
      "\n",
      "Phi 2 = (\n",
      "1\n",
      "0.23457\n",
      "0.99501\n",
      "0.13266\n",
      ")\n",
      "\n",
      "Phi 3 = (\n",
      "1\n",
      "0.32303\n",
      "0.99501\n",
      "0.08716\n",
      ")\n",
      "\n",
      "Phi 4 = (\n",
      "1\n",
      "0.00106\n",
      "0.10807\n",
      "1.0\n",
      ")\n",
      "\n"
     ]
    }
   ],
   "source": [
    "from numpy.linalg import norm \n",
    "print('We map the input into the hidden units,')\n",
    "print('The activation of the',K,'hidden units for the',X.shape[0],'different input is with the bias phi0 = 1,')\n",
    "#Phi1i=math.exp(-norm(X[i],2))\n",
    "\n",
    "print('res')\n",
    "res=np.subtract(X[0],c1)\n",
    "print(c2)\n",
    "                                                                           \n",
    "Phi1=[1.0]*(K+1)                                               #check how many Phi matrix there are (N input)\n",
    "Phi2=[1.0]*(K+1)                                               # (if I equal them they become the same)\n",
    "Phi3=[1.0]*(K+1)\n",
    "Phi4=[1.0]*(K+1)\n",
    "Phi5=[1.0]*(K+1)\n",
    "\n",
    "PhiAll=[Phi1, Phi2, Phi3, Phi4, Phi5]\n",
    "\n",
    "for i in range(0,X.shape[0]):                                                                                                   \n",
    "    print('Phi',i,'= (\\n1')\n",
    "    for k in range(1,K+1):\n",
    "        ci = c1 if k < 2 else c3 if k > 2 else c2                                      #check K  bc of if condition\n",
    "        phik=math.exp(-((pow(norm(np.subtract(X[i],ci),2),2))/(2*pow(sigmoid,2))))\n",
    "        print(round(phik,5))\n",
    "        PhiAll[i][k]=round(phik,5)\n",
    "    print(')\\n')\n"
   ]
  },
  {
   "cell_type": "markdown",
   "metadata": {},
   "source": [
    "The formula for the Logistic Regression with two classes $C_1$ and $C_2$ is given by,\n",
    "\\begin{align*} p(C_1|\\Phi)= \\sigma(net) = \\frac{1}{1 + e^{(-net)}} \\quad \\mathrm{and} \\quad p(C_2|\\Phi) = 1- p(C_1|\\Phi) , \\qquad net_k := \\langle \\textbf{w}^T \\cdot \\Phi \\rangle \\end{align*}"
   ]
  },
  {
   "cell_type": "code",
   "execution_count": 3,
   "metadata": {},
   "outputs": [
    {
     "name": "stdout",
     "output_type": "stream",
     "text": [
      "net 1 = 2.22652\n",
      "o= 1.0 \n",
      "delta= -2.0\n",
      "weights [-1.      -0.9801   0.5285   0.99856] \n",
      "\n",
      "net 2 = -1.80064\n",
      "o= -1.0 \n",
      "delta= 0.0\n",
      "weights [-1.      -0.9801   0.5285   0.99856] \n",
      "\n",
      "net 3 = -0.57157\n",
      "o= -1.0 \n",
      "delta= 2.0\n",
      "weights [ 1.      -0.51096  2.51852  1.26388] \n",
      "\n",
      "net 4 = 3.45105\n",
      "o= 1.0 \n",
      "delta= 0.0\n",
      "weights [ 1.      -0.51096  2.51852  1.26388] \n",
      "\n",
      "net 5 = 2.53552\n",
      "o= 1.0 \n",
      "delta= -2.0\n",
      "weights [-1.      -0.51308  2.30238 -0.73612] \n",
      "\n"
     ]
    }
   ],
   "source": [
    "weights=[1]*(K+1)\n",
    "outputs=[0]*(X.shape[0])\n",
    "deltas=[0]*(X.shape[0])\n",
    "\n",
    "for i in range (0,X.shape[0]):\n",
    "    net=0\n",
    "    for k in range(0,len(weights)):\n",
    "        net+=round(weights[k]*PhiAll[i][k],5)\n",
    "    \n",
    "    print('net',i+1,'=',net)\n",
    "    #perceptron\n",
    "    outputs[i]=np.sign(net)                                      #ATENTION: Activation function is defined here\n",
    "    #logistic regression\n",
    "    #outputs[i]=1/(1+math.exp(net))\n",
    "    \n",
    "    deltas[i]=targets[i]-outputs[i]\n",
    "    \n",
    "    print('o=',outputs[i],'\\ndelta=',deltas[i])\n",
    "    \n",
    "    #Learning Rule\n",
    "    w = learningrate * [PhiAll[i][x]*deltas[i] for x in range(0,len(PhiAll)-1)]\n",
    "    weights = np.add(weights,w)\n",
    "    print('weights',weights,'\\n')\n",
    "\n",
    "    "
   ]
  },
  {
   "cell_type": "markdown",
   "metadata": {},
   "source": [
    "If we used a perceptron on the original data (no hidden layer) could it solve the problem?\n",
    "Indicate why or why not.\n",
    "\n",
    "Solution:\n",
    "\n",
    "Eu penso que sim, porque se trata de duas classes. -> Desenhar os pontos e verificar se é possível dividí-los com uma reta.\n",
    "\n",
    "\n",
    "The problem can be separated by a line (hyperplane), see the drawing with a possible hyperplane 19*x-10=0."
   ]
  },
  {
   "cell_type": "code",
   "execution_count": 19,
   "metadata": {},
   "outputs": [
    {
     "name": "stdout",
     "output_type": "stream",
     "text": [
      "x values: [1 0 1 1 0]\n",
      "y values: [  9   8   0   1 -10]\n"
     ]
    },
    {
     "data": {
      "image/png": "[encoded data removed]",
      "text/plain": [
       "<Figure size 432x288 with 1 Axes>"
      ]
     },
     "metadata": {
      "needs_background": "light"
     },
     "output_type": "display_data"
    }
   ],
   "source": [
    "import matplotlib.pyplot as plt\n",
    "x = X[:,0]\n",
    "y = X[:,1]\n",
    "print('x values:',x)\n",
    "print('y values:',y)\n",
    "plt.scatter(x,y)\n",
    "plt.ylim(np.min(y)-3, np.max(y)+3)\n",
    "plt.xlim(np.min(x)-3, np.max(x)+3)\n",
    "plt.grid()\n",
    "plt.show()"
   ]
  },
  {
   "cell_type": "code",
   "execution_count": null,
   "metadata": {},
   "outputs": [],
   "source": []
  }
 ],
 "metadata": {
  "kernelspec": {
   "display_name": "Python 3",
   "language": "python",
   "name": "python3"
  },
  "language_info": {
   "codemirror_mode": {
    "name": "ipython",
    "version": 3
   },
   "file_extension": ".py",
   "mimetype": "text/x-python",
   "name": "python",
   "nbconvert_exporter": "python",
   "pygments_lexer": "ipython3",
   "version": "3.8.5"
  }
 },
 "nbformat": 4,
 "nbformat_minor": 4
}
