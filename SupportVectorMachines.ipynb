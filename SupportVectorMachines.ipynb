{
 "cells": [
  {
   "cell_type": "markdown",
   "metadata": {},
   "source": [
    "\\begin{align*}\n",
    "    SVM(x;W,b) = sign(w^Tx+b)\\\\\n",
    "    SVM(x;\\alpha,b) = sign(\\sum_{i=1}^Nt^{(i)}\\alpha_ix^Tx^{(i)}+b)\n",
    "\\end{align*}\n"
   ]
  },
  {
   "cell_type": "markdown",
   "metadata": {},
   "source": [
    "<h4> If they give you the alphas and not the weights</h4>"
   ]
  },
  {
   "cell_type": "code",
   "execution_count": 44,
   "metadata": {},
   "outputs": [
    {
     "name": "stdout",
     "output_type": "stream",
     "text": [
      "How many support vectors are required?\n",
      "There are 4 support vectors. All that have alpha > 0\n",
      "These corresponde to the x values:\n",
      "[[0 1 8]\n",
      " [1 0 6]\n",
      " [1 1 7]\n",
      " [1 1 3]]\n"
     ]
    }
   ],
   "source": [
    "import numpy as np\n",
    "\n",
    "Trainingset = np.array([[0,0,2],[0,1,8],[1,0,6],[1,1,7],[1,1,3],])                 #write here training data\n",
    "targets = np.array([1,1,-1,-1,1])                                                  #write here target values\n",
    "alphacoefficients = np.array([0,1,0.5,1,0.5])                                      #write here alpha\n",
    "bias=0                                                                             #write here bias\n",
    "\n",
    "print('How many support vectors are required?')\n",
    "\n",
    "result = np.where(alphacoefficients > 0)\n",
    "print(\"There are\", len(result[0]), 'support vectors. All that have alpha > 0\\nThese corresponde to the x values:')\n",
    "\n",
    "for i in result:\n",
    "    print(Trainingset[i])"
   ]
  },
  {
   "cell_type": "code",
   "execution_count": 56,
   "metadata": {},
   "outputs": [
    {
     "name": "stdout",
     "output_type": "stream",
     "text": [
      "Using a linear kernel and b=-3, how does this SVM classify x=(1,1,8)^T ?\n",
      "o(x)=sgn(\\sum_{i=1}^ 4  t^(i) . alpha_i . x^T . x^(i) + b)\n",
      "\n",
      "o(x)=sgn(1 . 1.0 . [1 1 8]  [0 1 8] ^T + \n",
      "-1 . 0.5 . [1 1 8]  [1 0 6] ^T + \n",
      "-1 . 1.0 . [1 1 8]  [1 1 7] ^T + \n",
      "1 . 0.5 . [1 1 8]  [1 1 3] ^T + \n",
      "-3 )\n",
      "\n",
      "o(x)=sgn([65.] +[-24.5] +[-58.] +[13.] +-3 )\n",
      "\t=sgn([-7.5] )\n",
      "\t= [-1.]\n"
     ]
    }
   ],
   "source": [
    "print('Using a linear kernel and b=-3, how does this SVM classify x=(1,1,8)^T ?')\n",
    "bias = -3                                                                              #change here bias\n",
    "Testset = np.array([1,1,8])                                                            #write here test sample\n",
    "print('o(x)=sgn(\\sum_{i=1}^',len(result[0]),' t^(i) . alpha_i . x^T . x^(i) + b)\\n')\n",
    "\n",
    "print('o(x)=sgn(', end=\"\")\n",
    "\n",
    "for i in range(np.min(result),np.max(result)+1):\n",
    "    print(targets[i],'.',alphacoefficients[i],'.',Testset,'',Trainingset[i],'^T + ')\n",
    "print(bias,')')\n",
    "\n",
    "print('\\no(x)=sgn(', end=\"\")\n",
    "for i in range(np.min(result),np.max(result)+1):\n",
    "    print(targets[i]*alphacoefficients[i]*Testset.dot(Trainingset[i].reshape(-1,1)),'+',end=\"\")\n",
    "print(bias,')')\n",
    "\n",
    "print('\\t=sgn(', end=\"\")\n",
    "sum=bias\n",
    "for i in range(np.min(result),np.max(result)+1):\n",
    "    sum+=targets[i]*alphacoefficients[i]*Testset.dot(Trainingset[i].reshape(-1,1))\n",
    "print(sum,')')\n",
    "\n",
    "print('\\t=',np.sign(sum))"
   ]
  },
  {
   "cell_type": "code",
   "execution_count": 95,
   "metadata": {},
   "outputs": [
    {
     "name": "stdout",
     "output_type": "stream",
     "text": [
      "What is the weight vector?\n",
      "W=\\sum_{i=1}^ 4  t^(i) . alpha_i . x^(i)\n",
      "W=[6.9552 3.0576] +[0. 0.] +[0. 0.] +[-4.7376 -1.7136] +\n",
      "w = [2.2176 1.344 ]\n"
     ]
    }
   ],
   "source": [
    "Trainingset = np.array([[3.29,1.60],[2.29,1.81],\n",
    "                        [2.07,0.91],[1.84,1.37],\n",
    "                        [3.06,1.66] ,[1.41,0.51],\n",
    "                        [0.70,1.25] ,[0.22,0.35],                              #OR DELETE\n",
    "                        [1.18,0.25] ,[0.83,0.62]])                               #write here training data\n",
    "targets = np.array([1,1,1,1,1,-1,-1,-1,-1,-1])                                   #write here target values\n",
    "alphacoefficients = np.array([0,0,3.36,0,0,3.36,0,0,0,0])                        #write here alpha\n",
    "\n",
    "supportvectors = np.where(alphacoefficients > 0)\n",
    "\n",
    "\n",
    "\n",
    "print('What is the weight vector?')\n",
    "print('W=\\sum_{i=1}^',len(result[0]),' t^(i) . alpha_i . x^(i)')\n",
    "print('W=',end=\"\")\n",
    "w=[0]*(Trainingset.shape[1])\n",
    "for i in range(np.min(supportvectors),np.max(supportvectors)+1):\n",
    "    print(targets[i]*alphacoefficients[i]*Trainingset[i],'+',end=\"\")\n",
    "    w= np.add(w,targets[i]*alphacoefficients[i]*Trainingset[i])\n",
    "print('\\nw =',w)"
   ]
  },
  {
   "cell_type": "code",
   "execution_count": 101,
   "metadata": {},
   "outputs": [
    {
     "name": "stdout",
     "output_type": "stream",
     "text": [
      "What is the boundary equation?\n",
      "When the output is exactly the same as the target value\n",
      "\t w^T . x^(i) + b = t^(i)\n",
      "We can use a support vector to find the bias first\n",
      "\n",
      "[2.2176 1.344 ]  .  [2.07 0.91] ^T + b =  1\n",
      "\tb= 1 - [5.813472]\n",
      "\tb= [-4.813472] \n",
      "\n",
      "Therefore the boundary equation is:\n",
      "\t w^T . x + b = 0\n",
      "\t 2.218 x1 +  1.344 x2 +  [-4.813]  = 0\n"
     ]
    }
   ],
   "source": [
    "print('What is the boundary equation?')\n",
    "print('We need the weight vector from before and the bias.')\n",
    "print('We can use a support vector to find the bias first\\n')\n",
    "print(w,' . ', Trainingset[supportvectors[0][0]],'^T + b = ', targets[supportvectors[0][0]] )\n",
    "print('\\tb=',targets[supportvectors[0][0]],'-',w.dot(Trainingset[supportvectors[0][0]].reshape(-1,1)))\n",
    "b = targets[supportvectors[0][0]] - w.dot(Trainingset[supportvectors[0][0]].reshape(-1,1))\n",
    "print('\\tb=',b,'\\n')\n",
    "print('Therefore the boundary equation is:')\n",
    "print('\\t w^T . x + b = 0')\n",
    "print('\\t',np.round(w[0],3),'x1 + ',np.round(w[1],3),'x2 + ',np.round(b,3),' = 0')"
   ]
  },
  {
   "cell_type": "markdown",
   "metadata": {},
   "source": [
    "<h4>No alpha coefficients but give weights and bias</h4>"
   ]
  },
  {
   "cell_type": "code",
   "execution_count": 145,
   "metadata": {},
   "outputs": [
    {
     "name": "stdout",
     "output_type": "stream",
     "text": [
      "What are the support vectors?\n",
      "\n",
      "When the output is exactly the same as the target value\n",
      "\t w^T . x^(i) + b = t^(i)\n",
      "\n",
      "For x( 0 ): [ 0.544 -0.474] . [0.68 1.26] + 1.902 = [1.67]   [False]   1\n",
      "For x( 1 ): [ 0.544 -0.474] . [-0.25 -0.51] + 1.902 = [2.01]   [False]   1\n",
      "For x( 2 ): [ 0.544 -0.474] . [ 0.83 -0.32] + 1.902 = [2.51]   [False]   1\n",
      "For x( 3 ): [ 0.544 -0.474] . [1.44 1.04] + 1.902 = [2.19]   [False]   1\n",
      "For x( 4 ): [ 0.544 -0.474] . [1.14 3.21] + 1.902 = [1.]   [ True]   1\n",
      "\n",
      "For x( 5 ): [ 0.544 -0.474] . [-2.19  5.1 ] + 1.902 = [-1.71]   [False]   -1\n",
      "For x( 6 ): [ 0.544 -0.474] . [-2.47  3.76] + 1.902 = [-1.22]   [False]   -1\n",
      "For x( 7 ): [ 0.544 -0.474] . [-1.19  6.39] + 1.902 = [-1.77]   [False]   -1\n",
      "For x( 8 ): [ 0.544 -0.474] . [-2.3   3.48] + 1.902 = [-1.]   [ True]   -1\n",
      "\n",
      "For x( 9 ): [ 0.544 -0.474] . [-0.94  5.04] + 1.902 = [-1.]   [ True]   -1\n",
      "\n",
      "\n",
      "The support vectors are:  [ 5  9 10] \n",
      "More specifically:\n",
      " [[ 1.14  3.21]\n",
      " [-2.3   3.48]\n",
      " [-0.94  5.04]]\n"
     ]
    }
   ],
   "source": [
    "Trainingset = np.array([[0.68,1.26],[-0.25,-0.51],\n",
    "                        [0.83,-0.32],[1.44,1.04],\n",
    "                        [1.14,3.21] ,[-2.19,5.1],\n",
    "                        [-2.47,3.76] ,[-1.19,6.39],                              #OR DELETE\n",
    "                        [-2.3,3.48] ,[-0.94,5.04]])                              #write here training data\n",
    "targets = np.array([1,1,1,1,1,-1,-1,-1,-1,-1])                                   #write here target values\n",
    "weights= np.array([0.544,-0.474])\n",
    "bias=1.902\n",
    "print('What are the support vectors?')\n",
    "print('\\nWhen the output is exactly the same as the target value')\n",
    "print('\\t w^T . x^(i) + b = t^(i)\\n')\n",
    "\n",
    "sp=[]\n",
    "supportvectors=[]\n",
    "\n",
    "for i in range(0,len(Trainingset)):\n",
    "    o = np.round(weights.dot(Trainingset[i].reshape(-1,1)) + bias,2)\n",
    "    print('For x(',i,'):',weights,'.',Trainingset[i],'+',bias,'=',o,' ',o==targets[i],' ',targets[i])\n",
    "    if o == targets[i]:\n",
    "        sp.append(i+1)\n",
    "        supportvectors.append(Trainingset[i])\n",
    "        print()\n",
    "    o=0\n",
    "    \n",
    "sp = np.array(sp)\n",
    "supportvectors = np.array(supportvectors)\n",
    "print('\\nThe support vectors are: ', sp,'\\nMore specifically:\\n',supportvectors)\n",
    "    "
   ]
  },
  {
   "cell_type": "code",
   "execution_count": 167,
   "metadata": {},
   "outputs": [
    {
     "name": "stdout",
     "output_type": "stream",
     "text": [
      "What are the dual coefficients alpha?\n",
      "Only those that are support vectors have a positive alpha \n",
      "t^( 5 ) alpha 5 x^( 5 )^T x^( 5 ) + t^( 9 ) alpha 9 x^( 9 )^T x^( 5 ) + t^( 10 ) alpha 10 x^( 10 )^T x^( 5 ) + = t^( 5 )\n",
      "t^( 9 ) alpha 9 x^( 9 )^T x^( 9 ) + t^( 5 ) alpha 5 x^( 5 )^T x^( 9 ) + t^( 10 ) alpha 10 x^( 10 )^T x^( 9 ) + = t^( 9 )\n",
      "t^( 10 ) alpha 10 x^( 10 )^T x^( 10 ) + t^( 5 ) alpha 5 x^( 5 )^T x^( 10 ) + t^( 9 ) alpha 9 x^( 9 )^T x^( 10 ) + = t^( 10 )\n",
      "\n",
      "\n",
      "\n",
      "[11.6037] alpha 5  + [-8.5488] alpha 9  + [-15.1068] alpha 10  + =  -0.902\n",
      "[-17.4004] alpha 9  + [8.5488] alpha 5  + [-19.7012] alpha 10  + =  -2.902\n",
      "[-26.2852] alpha 10  + [15.1068] alpha 5  + [-19.7012] alpha 9  + =  -2.902\n"
     ]
    }
   ],
   "source": [
    "print('What are the dual coefficients alpha?')\n",
    "print('Only those that are support vectors have a positive alpha ')\n",
    "\n",
    "for i in range(0,len(supportvectors)):\n",
    "    print('t^(',sp[i],') alpha',sp[i],'x^(',sp[i],')^T x^(',sp[i],') + ',end=\"\")\n",
    "    for k in range(0,len(supportvectors)):\n",
    "        if k != i:\n",
    "            print('t^(',sp[k],') alpha',sp[k],'x^(',sp[k],')^T x^(',sp[i],') + ',end=\"\")\n",
    "    print('= t^(',sp[i],')')\n",
    "\n",
    "print('\\n\\n')\n",
    "\n",
    "    \n",
    "for i in range(0,len(supportvectors)):\n",
    "    indexi = sp[i]-1\n",
    "    a=targets[indexi]*Trainingset[indexi].dot(Trainingset[indexi].reshape(-1,1))\n",
    "    print(a,'alpha',sp[i],' + ',end=\"\")\n",
    "    for k in range(0,len(supportvectors)):\n",
    "        if k != i:\n",
    "            indexk = sp[k]-1\n",
    "            a=targets[indexk]*Trainingset[indexk].dot(Trainingset[indexi].reshape(-1,1))\n",
    "            print(a,'alpha',sp[k],' + ',end=\"\")\n",
    "    print( '= ', np.round(targets[indexi]-bias,3))\n",
    "    a=0"
   ]
  },
  {
   "cell_type": "code",
   "execution_count": 142,
   "metadata": {},
   "outputs": [
    {
     "name": "stdout",
     "output_type": "stream",
     "text": [
      "What is the value margin?\n",
      "margin = 1 / ||w||2\n",
      "\t= 1 / \\sqrt{ 0.544 ^2 -0.474 ^2 } \n",
      "\t= 1.386\n"
     ]
    }
   ],
   "source": [
    "print('What is the value margin?')\n",
    "print('margin = 1 / ||w||2')\n",
    "print('\\t= 1 / \\sqrt{',weights[0],'^2 ',weights[1],'^2 } ')\n",
    "print('\\t=',np.round(1/np.linalg.norm(weights),3))"
   ]
  },
  {
   "cell_type": "code",
   "execution_count": null,
   "metadata": {},
   "outputs": [],
   "source": []
  }
 ],
 "metadata": {
  "kernelspec": {
   "display_name": "Python 3",
   "language": "python",
   "name": "python3"
  },
  "language_info": {
   "codemirror_mode": {
    "name": "ipython",
    "version": 3
   },
   "file_extension": ".py",
   "mimetype": "text/x-python",
   "name": "python",
   "nbconvert_exporter": "python",
   "pygments_lexer": "ipython3",
   "version": "3.8.5"
  }
 },
 "nbformat": 4,
 "nbformat_minor": 4
}
