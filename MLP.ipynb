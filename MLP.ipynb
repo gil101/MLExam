{
 "cells": [
  {
   "cell_type": "code",
   "execution_count": 6,
   "metadata": {},
   "outputs": [
    {
     "name": "stdout",
     "output_type": "stream",
     "text": [
      "z1: [5 5 5]\n",
      "x1: [0.099991, 0.099991, 0.099991]\n",
      "\n",
      "z2: [0.29997 0.29997]\n",
      "x2: [0.02913, 0.02913]\n"
     ]
    }
   ],
   "source": []
  },
  {
   "cell_type": "markdown",
   "metadata": {},
   "source": [
    "<h4> Neural Network </h4>"
   ]
  },
  {
   "cell_type": "code",
   "execution_count": 49,
   "metadata": {},
   "outputs": [
    {
     "name": "stdout",
     "output_type": "stream",
     "text": [
      "Forward Propagation\n",
      "z1: [5 5 5]\n",
      "x1: [0.099991, 0.099991, 0.099991]\n",
      "\n",
      "z2: [0.29997 0.29997]\n",
      "x2: [0.02913, 0.02913]\n",
      "\n",
      "Do derivatives\n",
      "delta2 =( [0.02913, 0.02913] - [0 0] ) o ( [0.09152, 0.09152] )\n",
      "\t=  [0.00266598 0.00266598]\n",
      "\n",
      "delta1 =[[1 1 1]\n",
      " [1 1 1]] * [0.00266598 0.00266598]  o ( [2e-05, 2e-05, 2e-05] )\n",
      "\t=  [1.06639104e-07 1.06639104e-07 1.06639104e-07]\n",
      "\n",
      "Updates\n",
      "First Layer\n"
     ]
    },
    {
     "ename": "ValueError",
     "evalue": "operands could not be broadcast together with shapes (3,) (5,) ",
     "output_type": "error",
     "traceback": [
      "\u001b[1;31m---------------------------------------------------------------------------\u001b[0m",
      "\u001b[1;31mValueError\u001b[0m                                Traceback (most recent call last)",
      "\u001b[1;32m<ipython-input-49-396e461067aa>\u001b[0m in \u001b[0;36m<module>\u001b[1;34m\u001b[0m\n\u001b[0;32m     61\u001b[0m \u001b[0mprint\u001b[0m\u001b[1;33m(\u001b[0m\u001b[1;34m'First Layer'\u001b[0m\u001b[1;33m)\u001b[0m\u001b[1;33m\u001b[0m\u001b[1;33m\u001b[0m\u001b[0m\n\u001b[0;32m     62\u001b[0m \u001b[1;33m\u001b[0m\u001b[0m\n\u001b[1;32m---> 63\u001b[1;33m \u001b[0mprint\u001b[0m\u001b[1;33m(\u001b[0m\u001b[0mdelta1\u001b[0m\u001b[1;33m*\u001b[0m\u001b[0minputv\u001b[0m\u001b[1;33m)\u001b[0m\u001b[1;33m\u001b[0m\u001b[1;33m\u001b[0m\u001b[0m\n\u001b[0m",
      "\u001b[1;31mValueError\u001b[0m: operands could not be broadcast together with shapes (3,) (5,) "
     ]
    }
   ],
   "source": [
    "import numpy as np\n",
    "import math\n",
    "#matrix multiplication\n",
    "Weights1=np.array([[1,1,1,1,1],[1,1,1,1,1],[1,1,1,1,1]])\n",
    "bias1=np.array([0,0,0])\n",
    "Weights2=np.array([[1,1,1],[1,1,1,]])\n",
    "bias2=np.array([0,0])\n",
    "\n",
    "inputv=np.array([1,1,1,1,1])\n",
    "target=np.array([0,0])\n",
    "\n",
    "print('Forward Propagation')\n",
    "\n",
    "z1=(Weights1).dot(inputv)+bias1\n",
    "print('z1:',z1)\n",
    "x1=[0]*z1.shape[0]\n",
    "for i in range(0,len(z1)):\n",
    "    #activation function\n",
    "    x1[i]=np.round(0.1*math.tanh(z1[i]),6)\n",
    "print('x1:',x1)\n",
    "\n",
    "z2=(Weights2).dot(x1)+bias2\n",
    "print('\\nz2:',np.round(z2,5))\n",
    "x2=[0]*z2.shape[0]\n",
    "for i in range(0,len(z2)):\n",
    "    #activation function\n",
    "    x2[i]=np.round(0.1*math.tanh(z2[i]),5)\n",
    "print('x2:',x2)\n",
    "\n",
    "\n",
    "print('\\nDo derivatives')\n",
    "\n",
    "print('delta2 =',end=\"\")\n",
    "#write derivative\n",
    "d_error= np.subtract(x2,target)\n",
    "d_actf2=[0]*z2.shape[0]\n",
    "#write derivative\n",
    "for i in range(0,len(z2)):\n",
    "    d_actf2[i]=np.round(0.1*(1-pow(math.tanh(z2[i]),2)),5)\n",
    "delta2 = np.multiply(d_error,d_actf2)\n",
    "print('(', x2,'-',target,') o (',d_actf2,')')\n",
    "print('\\t= ',delta2)\n",
    "\n",
    "print('\\ndelta1 =',end=\"\")\n",
    "\n",
    "#write derivative\n",
    "d_z= Weights2\n",
    "righs=d_z.T.dot(delta2)\n",
    "\n",
    "d_actf1=[0]*z1.shape[0]\n",
    "#write derivative\n",
    "for i in range(0,len(z1)):\n",
    "    d_actf1[i]=np.round(0.1*(1-pow(math.tanh(z1[i]),2)),5)\n",
    "delta1 = np.multiply(righs,d_actf1)\n",
    "\n",
    "print( d_z,'*',delta2,' o (',d_actf1,')')\n",
    "print('\\t= ',delta1)\n",
    "\n",
    "print('\\nUpdates')\n",
    "\n",
    "print('First Layer')\n",
    "\n",
    "print(delta1*inputv)"
   ]
  },
  {
   "cell_type": "code",
   "execution_count": null,
   "metadata": {},
   "outputs": [],
   "source": []
  }
 ],
 "metadata": {
  "kernelspec": {
   "display_name": "Python 3",
   "language": "python",
   "name": "python3"
  },
  "language_info": {
   "codemirror_mode": {
    "name": "ipython",
    "version": 3
   },
   "file_extension": ".py",
   "mimetype": "text/x-python",
   "name": "python",
   "nbconvert_exporter": "python",
   "pygments_lexer": "ipython3",
   "version": "3.8.5"
  }
 },
 "nbformat": 4,
 "nbformat_minor": 4
}
