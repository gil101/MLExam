{
 "cells": [
  {
   "cell_type": "code",
   "execution_count": 36,
   "metadata": {},
   "outputs": [
    {
     "name": "stdout",
     "output_type": "stream",
     "text": [
      "z1: [5 5 5]\n",
      "x1: [0.999909, 0.999909, 0.999909]\n",
      "\n",
      "z2: [2.99973 2.99973]\n",
      "x2: [0.995, 0.995]\n"
     ]
    }
   ],
   "source": [
    "import numpy as np\n",
    "import math\n",
    "#matrix multiplication\n",
    "Weights1=np.array([[1,1,1,1,1],[1,1,1,1,1],[1,1,1,1,1]])\n",
    "bias1=np.array([0,0,0])\n",
    "Weights2=np.array([[1,1,1],[1,1,1,]])\n",
    "bias2=np.array([0,0])\n",
    "\n",
    "inputv=np.array([1,1,1,1,1])\n",
    "\n",
    "z1=(Weights1).dot(inputv)+bias1\n",
    "print('z1:',z1)\n",
    "x1=[0]*z1.shape[0]\n",
    "for i in range(0,len(z1)):\n",
    "    x1[i]=np.round(math.tanh(z1[i]),6)\n",
    "print('x1:',x1)\n",
    "\n",
    "z2=(Weights2).dot(x1)+bias2\n",
    "print('\\nz2:',np.round(z2,5))\n",
    "x2=[0]*z2.shape[0]\n",
    "for i in range(0,len(z2)):\n",
    "    x2[i]=np.round(math.tanh(z2[i]),3)\n",
    "print('x2:',x2)\n"
   ]
  },
  {
   "cell_type": "code",
   "execution_count": null,
   "metadata": {},
   "outputs": [],
   "source": []
  }
 ],
 "metadata": {
  "kernelspec": {
   "display_name": "Python 3",
   "language": "python",
   "name": "python3"
  },
  "language_info": {
   "codemirror_mode": {
    "name": "ipython",
    "version": 3
   },
   "file_extension": ".py",
   "mimetype": "text/x-python",
   "name": "python",
   "nbconvert_exporter": "python",
   "pygments_lexer": "ipython3",
   "version": "3.8.5"
  }
 },
 "nbformat": 4,
 "nbformat_minor": 4
}
